{
 "cells": [
  {
   "cell_type": "markdown",
   "metadata": {},
   "source": [
    "# Install Required Packages\n",
    "Use pip to install the dist wheel package."
   ]
  },
  {
   "cell_type": "code",
   "execution_count": null,
   "metadata": {
    "vscode": {
     "languageId": "markdown"
    }
   },
   "outputs": [],
   "source": [
    "# Location of the sdk project\n",
    "# cd to tiny-eval-sdk\\prompt-eval-sdk\n",
    "\n",
    "%cd D:\\GitHub\\tiny-eval-sdk\\prompt-eval-sdk\n",
    "%pip install --upgrade pip\n",
    "!curl -sSL https://install.python-poetry.org | python -\n",
    "!poetry self update\n",
    "!poetry cache clear pypi --all"
   ]
  },
  {
   "cell_type": "code",
   "execution_count": null,
   "metadata": {
    "vscode": {
     "languageId": "markdown"
    }
   },
   "outputs": [],
   "source": [
    "# Build the cloud evaluation SDK\n",
    "!poetry --version\n",
    "!poetry lock\n",
    "!poetry install\n",
    "# !poetry add numpy --allow-prereleases\n",
    "!poetry update\n",
    "!poetry build\n",
    "\n",
    "%pip install prompt_eval_sdk"
   ]
  },
  {
   "cell_type": "markdown",
   "metadata": {},
   "source": [
    "# Import the Package\n",
    "Import the installed package into the notebook."
   ]
  },
  {
   "cell_type": "code",
   "execution_count": null,
   "metadata": {},
   "outputs": [],
   "source": [
    "# Import the installed package into the notebook\n",
    "import sys\n",
    "sys.path.append('D:/GitHub/tiny-eval-sdk/prompt-eval-sdk')\n",
    "import os\n",
    "import json\n",
    "from dotenv import load_dotenv\n",
    "from prompt_eval_sdk.evaluation import  Evaluation, EvaluationResult\n",
    "from prompt_eval_sdk.code_evaluator import CodeQualityEvaluator\n",
    "\n",
    "load_dotenv()"
   ]
  },
  {
   "cell_type": "code",
   "execution_count": null,
   "metadata": {},
   "outputs": [],
   "source": [
    "# Initialize OS Variables and Set Model Configuration\n",
    "model_config = {\n",
    "    \"azure_endpoint\": os.getenv(\"AZURE_OPENAI_ENDPOINT\"),\n",
    "    \"api_key\": os.getenv(\"AZURE_OPENAI_API_KEY\"),\n",
    "    \"azure_deployment\": os.getenv(\"AZURE_OPENAI_DEPLOYMENT\"),\n",
    "}\n",
    "\n",
    "# Print the model configuration to verify\n",
    "print(\"Model Configuration:\", model_config)\n",
    "\n",
    "evaluation = Evaluation(model_config)\n",
    "code_evaluation = CodeQualityEvaluator(model_config=model_config)"
   ]
  },
  {
   "cell_type": "markdown",
   "metadata": {},
   "source": [
    "# Run a Simple Test\n",
    "Write and run a simple test to verify the package functionality."
   ]
  },
  {
   "cell_type": "code",
   "execution_count": null,
   "metadata": {},
   "outputs": [],
   "source": [
    "query = \"What is the capital of Japan?\"\n",
    "response = \"The capital of Japan is Tokyo.\"\n",
    "result = evaluation.evaluate_relevance(query, response)\n",
    "print(result)"
   ]
  },
  {
   "cell_type": "code",
   "execution_count": null,
   "metadata": {},
   "outputs": [],
   "source": [
    "query = \"What is the capital of Japan?\"\n",
    "response = \"The capital of Japan is Tokyo.\"\n",
    "result = evaluation.evaluate_coherance(query, response)\n",
    "print(result)"
   ]
  },
  {
   "cell_type": "code",
   "execution_count": null,
   "metadata": {},
   "outputs": [],
   "source": [
    "query = \"What is the capital of Japan?\"\n",
    "response = \"The capital of Japan is Tokyo.\"\n",
    "ground_truth = \"Tokyo is the capital of Japan.\"\n",
    "result = evaluation.evaluate_similarity(query, response, ground_truth)\n",
    "print(result)"
   ]
  },
  {
   "cell_type": "code",
   "execution_count": null,
   "metadata": {},
   "outputs": [],
   "source": [
    "query = \"What is the capital of Japan?\"\n",
    "response = \"The capital of Japan is Tokyo.\"\n",
    "ground_truth = \"Tokyo is the capital of Japan.\"\n",
    "result: EvaluationResult = evaluation.evaluate_combined(query, response, ground_truth)\n",
    "print(result)"
   ]
  },
  {
   "cell_type": "code",
   "execution_count": null,
   "metadata": {},
   "outputs": [],
   "source": [
    "def read_file_to_string(file_path):\n",
    "    try:\n",
    "        with open(file_path, 'r', encoding='utf-8') as file:\n",
    "            content = file.read()\n",
    "        return content\n",
    "    except FileNotFoundError:\n",
    "        print(f\"The file {file_path} does not exist.\")\n",
    "        return None\n",
    "    except Exception as e:\n",
    "        print(f\"An error occurred while reading the file: {e}\")\n",
    "        return None\n",
    "    \n",
    "source_code = r\"D:\\Python\\Django\\djangotutorial\\grid\\views.py\"\n",
    "result = code_evaluation(response=read_file_to_string(source_code))\n",
    "print('Code analysis completed!\\nResult: ' + json.dumps(result, indent=2))"
   ]
  }
 ],
 "metadata": {
  "kernelspec": {
   "display_name": ".venv",
   "language": "python",
   "name": "python3"
  },
  "language_info": {
   "codemirror_mode": {
    "name": "ipython",
    "version": 3
   },
   "file_extension": ".py",
   "mimetype": "text/x-python",
   "name": "python",
   "nbconvert_exporter": "python",
   "pygments_lexer": "ipython3",
   "version": "3.12.8"
  }
 },
 "nbformat": 4,
 "nbformat_minor": 2
}

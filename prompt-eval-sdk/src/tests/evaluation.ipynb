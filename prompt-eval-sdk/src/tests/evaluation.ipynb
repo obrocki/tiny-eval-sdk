{
 "cells": [
  {
   "cell_type": "markdown",
   "metadata": {},
   "source": [
    "# Install Required Packages\n",
    "Use pip to install the dist wheel package."
   ]
  },
  {
   "cell_type": "code",
   "execution_count": 7,
   "metadata": {
    "vscode": {
     "languageId": "markdown"
    }
   },
   "outputs": [
    {
     "name": "stdout",
     "output_type": "stream",
     "text": [
      "D:\\GitHub\\eval-sdk-wrapper\\prompt-eval-sdk\n",
      "Requirement already satisfied: poetry in d:\\github\\tiny-eval-sdk\\.venv\\lib\\site-packages (2.0.1)\n",
      "Requirement already satisfied: build<2.0.0,>=1.2.1 in d:\\github\\tiny-eval-sdk\\.venv\\lib\\site-packages (from poetry) (1.2.2.post1)\n",
      "Requirement already satisfied: cachecontrol<0.15.0,>=0.14.0 in d:\\github\\tiny-eval-sdk\\.venv\\lib\\site-packages (from cachecontrol[filecache]<0.15.0,>=0.14.0->poetry) (0.14.2)\n",
      "Requirement already satisfied: cleo<3.0.0,>=2.1.0 in d:\\github\\tiny-eval-sdk\\.venv\\lib\\site-packages (from poetry) (2.1.0)\n",
      "Requirement already satisfied: dulwich<0.23.0,>=0.22.6 in d:\\github\\tiny-eval-sdk\\.venv\\lib\\site-packages (from poetry) (0.22.7)\n",
      "Requirement already satisfied: fastjsonschema<3.0.0,>=2.18.0 in d:\\github\\tiny-eval-sdk\\.venv\\lib\\site-packages (from poetry) (2.21.1)\n",
      "Requirement already satisfied: installer<0.8.0,>=0.7.0 in d:\\github\\tiny-eval-sdk\\.venv\\lib\\site-packages (from poetry) (0.7.0)\n",
      "Collecting keyring<26.0.0,>=25.1.0 (from poetry)\n",
      "  Using cached keyring-25.6.0-py3-none-any.whl.metadata (20 kB)\n",
      "Requirement already satisfied: packaging>=24.0 in d:\\github\\tiny-eval-sdk\\.venv\\lib\\site-packages (from poetry) (24.2)\n",
      "Requirement already satisfied: pkginfo<2.0,>=1.12 in d:\\github\\tiny-eval-sdk\\.venv\\lib\\site-packages (from poetry) (1.12.0)\n",
      "Requirement already satisfied: platformdirs<5,>=3.0.0 in d:\\github\\tiny-eval-sdk\\.venv\\lib\\site-packages (from poetry) (4.3.6)\n",
      "Requirement already satisfied: poetry-core==2.0.1 in d:\\github\\tiny-eval-sdk\\.venv\\lib\\site-packages (from poetry) (2.0.1)\n",
      "Requirement already satisfied: pyproject-hooks<2.0.0,>=1.0.0 in d:\\github\\tiny-eval-sdk\\.venv\\lib\\site-packages (from poetry) (1.2.0)\n",
      "Requirement already satisfied: requests<3.0,>=2.26 in d:\\github\\tiny-eval-sdk\\.venv\\lib\\site-packages (from poetry) (2.32.3)\n",
      "Requirement already satisfied: requests-toolbelt<2.0.0,>=1.0.0 in d:\\github\\tiny-eval-sdk\\.venv\\lib\\site-packages (from poetry) (1.0.0)\n",
      "Requirement already satisfied: shellingham<2.0,>=1.5 in d:\\github\\tiny-eval-sdk\\.venv\\lib\\site-packages (from poetry) (1.5.4)\n",
      "Requirement already satisfied: tomlkit<1.0.0,>=0.11.4 in d:\\github\\tiny-eval-sdk\\.venv\\lib\\site-packages (from poetry) (0.13.2)\n",
      "Requirement already satisfied: trove-classifiers>=2022.5.19 in d:\\github\\tiny-eval-sdk\\.venv\\lib\\site-packages (from poetry) (2025.1.15.22)\n",
      "Requirement already satisfied: virtualenv<21.0.0,>=20.26.6 in d:\\github\\tiny-eval-sdk\\.venv\\lib\\site-packages (from poetry) (20.29.1)\n",
      "Requirement already satisfied: colorama in d:\\github\\tiny-eval-sdk\\.venv\\lib\\site-packages (from build<2.0.0,>=1.2.1->poetry) (0.4.6)\n",
      "Requirement already satisfied: msgpack<2.0.0,>=0.5.2 in d:\\github\\tiny-eval-sdk\\.venv\\lib\\site-packages (from cachecontrol<0.15.0,>=0.14.0->cachecontrol[filecache]<0.15.0,>=0.14.0->poetry) (1.1.0)\n",
      "Requirement already satisfied: filelock>=3.8.0 in d:\\github\\tiny-eval-sdk\\.venv\\lib\\site-packages (from cachecontrol[filecache]<0.15.0,>=0.14.0->poetry) (3.17.0)\n",
      "Requirement already satisfied: crashtest<0.5.0,>=0.4.1 in d:\\github\\tiny-eval-sdk\\.venv\\lib\\site-packages (from cleo<3.0.0,>=2.1.0->poetry) (0.4.1)\n",
      "Requirement already satisfied: rapidfuzz<4.0.0,>=3.0.0 in d:\\github\\tiny-eval-sdk\\.venv\\lib\\site-packages (from cleo<3.0.0,>=2.1.0->poetry) (3.11.0)\n",
      "Requirement already satisfied: urllib3>=1.25 in d:\\github\\tiny-eval-sdk\\.venv\\lib\\site-packages (from dulwich<0.23.0,>=0.22.6->poetry) (2.3.0)\n",
      "Requirement already satisfied: pywin32-ctypes>=0.2.0 in d:\\github\\tiny-eval-sdk\\.venv\\lib\\site-packages (from keyring<26.0.0,>=25.1.0->poetry) (0.2.3)\n",
      "Requirement already satisfied: jaraco.classes in d:\\github\\tiny-eval-sdk\\.venv\\lib\\site-packages (from keyring<26.0.0,>=25.1.0->poetry) (3.4.0)\n",
      "Requirement already satisfied: jaraco.functools in d:\\github\\tiny-eval-sdk\\.venv\\lib\\site-packages (from keyring<26.0.0,>=25.1.0->poetry) (4.1.0)\n",
      "Requirement already satisfied: jaraco.context in d:\\github\\tiny-eval-sdk\\.venv\\lib\\site-packages (from keyring<26.0.0,>=25.1.0->poetry) (6.0.1)\n",
      "Requirement already satisfied: charset-normalizer<4,>=2 in d:\\github\\tiny-eval-sdk\\.venv\\lib\\site-packages (from requests<3.0,>=2.26->poetry) (3.4.1)\n",
      "Requirement already satisfied: idna<4,>=2.5 in d:\\github\\tiny-eval-sdk\\.venv\\lib\\site-packages (from requests<3.0,>=2.26->poetry) (3.10)\n",
      "Requirement already satisfied: certifi>=2017.4.17 in d:\\github\\tiny-eval-sdk\\.venv\\lib\\site-packages (from requests<3.0,>=2.26->poetry) (2024.12.14)\n",
      "Requirement already satisfied: distlib<1,>=0.3.7 in d:\\github\\tiny-eval-sdk\\.venv\\lib\\site-packages (from virtualenv<21.0.0,>=20.26.6->poetry) (0.3.9)\n",
      "Requirement already satisfied: more-itertools in d:\\github\\tiny-eval-sdk\\.venv\\lib\\site-packages (from jaraco.classes->keyring<26.0.0,>=25.1.0->poetry) (10.6.0)\n",
      "Using cached keyring-25.6.0-py3-none-any.whl (39 kB)\n",
      "Installing collected packages: keyring\n",
      "  Attempting uninstall: keyring\n",
      "    Found existing installation: keyring 24.3.1\n",
      "    Uninstalling keyring-24.3.1:\n",
      "      Successfully uninstalled keyring-24.3.1\n",
      "Successfully installed keyring-25.6.0\n",
      "Note: you may need to restart the kernel to use updated packages.\n"
     ]
    },
    {
     "name": "stderr",
     "output_type": "stream",
     "text": [
      "ERROR: pip's dependency resolver does not currently take into account all the packages that are installed. This behaviour is the source of the following dependency conflicts.\n",
      "promptflow-devkit 1.17.2 requires keyring<25.0.0,>=24.2.0, but you have keyring 25.6.0 which is incompatible.\n"
     ]
    },
    {
     "name": "stdout",
     "output_type": "stream",
     "text": [
      "Updating Poetry version ...\n",
      "\n",
      "Using version ^2.0.1 for poetry\n",
      "\n",
      "Updating dependencies\n",
      "Resolving dependencies...\n",
      "\n",
      "No dependencies to install or update\n",
      "\n",
      "Writing lock file\n"
     ]
    }
   ],
   "source": [
    "# Location of the sdk project\n",
    "# cd to eval-sdk-wrapper\\prompt-eval-sdk\\\n",
    "\n",
    "%cd D:\\GitHub\\eval-sdk-wrapper\\prompt-eval-sdk\n",
    "%pip install poetry\n",
    "!poetry self update\n",
    "!poetry cache clear --all pypi\n",
    "\n"
   ]
  },
  {
   "cell_type": "code",
   "execution_count": 10,
   "metadata": {
    "vscode": {
     "languageId": "markdown"
    }
   },
   "outputs": [
    {
     "name": "stdout",
     "output_type": "stream",
     "text": [
      " Volume in drive D is Dev Drive\n",
      " Volume Serial Number is 5497-BB80\n",
      "\n",
      " Directory of D:\\GitHub\\eval-sdk-wrapper\\prompt-eval-sdk\n",
      "\n",
      "23/01/2025  17:06    <DIR>          .\n",
      "23/01/2025  17:06    <DIR>          ..\n",
      "21/01/2025  14:27               213 .env\n",
      "22/01/2025  14:55    <DIR>          build\n",
      "22/01/2025  13:45    <DIR>          dist\n",
      "21/01/2025  15:41             1,358 README.md\n",
      "23/01/2025  14:46                87 requirements.txt\n",
      "22/01/2025  12:03               931 setup.py\n",
      "22/01/2025  14:55    <DIR>          src\n",
      "               4 File(s)          2,589 bytes\n",
      "               5 Dir(s)  513,360,539,648 bytes free\n"
     ]
    },
    {
     "name": "stderr",
     "output_type": "stream",
     "text": [
      "\n",
      "Poetry could not find a pyproject.toml file in D:\\GitHub\\eval-sdk-wrapper\\prompt-eval-sdk or its parents\n"
     ]
    }
   ],
   "source": [
    "# Build the cloud evaluation SDK\n",
    "!dir\n",
    "!poetry install\n",
    "!poetry build"
   ]
  },
  {
   "cell_type": "code",
   "execution_count": null,
   "metadata": {},
   "outputs": [],
   "source": [
    "\n",
    "!poetry install"
   ]
  },
  {
   "cell_type": "markdown",
   "metadata": {},
   "source": [
    "# Import the Package\n",
    "Import the installed package into the notebook."
   ]
  },
  {
   "cell_type": "code",
   "execution_count": null,
   "metadata": {},
   "outputs": [],
   "source": [
    "# Import the installed package into the notebook\n",
    "import os\n",
    "import json\n",
    "from dotenv import load_dotenv\n",
    "from prompt_eval_sdk.evaluation import Evaluation, EvaluationResult\n",
    "from prompt_eval_sdk.code_evaluator import CodeQualityEvaluator\n",
    "\n",
    "load_dotenv()"
   ]
  },
  {
   "cell_type": "code",
   "execution_count": null,
   "metadata": {},
   "outputs": [],
   "source": [
    "# Initialize OS Variables and Set Model Configuration\n",
    "model_config = {\n",
    "    \"azure_endpoint\": os.getenv(\"AZURE_OPENAI_ENDPOINT\"),\n",
    "    \"api_key\": os.getenv(\"AZURE_OPENAI_API_KEY\"),\n",
    "    \"azure_deployment\": os.getenv(\"AZURE_OPENAI_DEPLOYMENT\"),\n",
    "}\n",
    "\n",
    "# Print the model configuration to verify\n",
    "print(\"Model Configuration:\", model_config)\n",
    "\n",
    "evaluation = Evaluation(model_config)\n",
    "code_evaluation = CodeQualityEvaluator(model_config=model_config)"
   ]
  },
  {
   "cell_type": "markdown",
   "metadata": {},
   "source": [
    "# Run a Simple Test\n",
    "Write and run a simple test to verify the package functionality."
   ]
  },
  {
   "cell_type": "code",
   "execution_count": null,
   "metadata": {},
   "outputs": [],
   "source": [
    "query = \"What is the capital of Japan?\"\n",
    "response = \"The capital of Japan is Tokyo.\"\n",
    "result = evaluation.evaluate_relevance(query, response)\n",
    "print(result)"
   ]
  },
  {
   "cell_type": "code",
   "execution_count": null,
   "metadata": {},
   "outputs": [],
   "source": [
    "query = \"What is the capital of Japan?\"\n",
    "response = \"The capital of Japan is Tokyo.\"\n",
    "result = evaluation.evaluate_coherance(query, response)\n",
    "print(result)"
   ]
  },
  {
   "cell_type": "code",
   "execution_count": null,
   "metadata": {},
   "outputs": [],
   "source": [
    "query = \"What is the capital of Japan?\"\n",
    "response = \"The capital of Japan is Tokyo.\"\n",
    "ground_truth = \"Tokyo is the capital of Japan.\"\n",
    "result = evaluation.evaluate_similarity(query, response, ground_truth)\n",
    "print(result)"
   ]
  },
  {
   "cell_type": "code",
   "execution_count": null,
   "metadata": {},
   "outputs": [],
   "source": [
    "query = \"What is the capital of Japan?\"\n",
    "response = \"The capital of Japan is Tokyo.\"\n",
    "ground_truth = \"Tokyo is the capital of Japan.\"\n",
    "result: EvaluationResult = evaluation.evaluate_combined(query, response, ground_truth)\n",
    "print(result)"
   ]
  },
  {
   "cell_type": "code",
   "execution_count": null,
   "metadata": {},
   "outputs": [],
   "source": [
    "def read_file_to_string(file_path):\n",
    "    try:\n",
    "        with open(file_path, 'r', encoding='utf-8') as file:\n",
    "            content = file.read()\n",
    "        return content\n",
    "    except FileNotFoundError:\n",
    "        print(f\"The file {file_path} does not exist.\")\n",
    "        return None\n",
    "    except Exception as e:\n",
    "        print(f\"An error occurred while reading the file: {e}\")\n",
    "        return None\n",
    "    \n",
    "source_code = r\"D:\\Python\\Django\\djangotutorial\\grid\\views.py\"\n",
    "result = code_evaluation(response=read_file_to_string(source_code))\n",
    "print('Code analysis completed!\\nResult: ' + json.dumps(result, indent=2))"
   ]
  }
 ],
 "metadata": {
  "kernelspec": {
   "display_name": ".venv",
   "language": "python",
   "name": "python3"
  },
  "language_info": {
   "codemirror_mode": {
    "name": "ipython",
    "version": 3
   },
   "file_extension": ".py",
   "mimetype": "text/x-python",
   "name": "python",
   "nbconvert_exporter": "python",
   "pygments_lexer": "ipython3",
   "version": "3.12.8"
  }
 },
 "nbformat": 4,
 "nbformat_minor": 2
}
